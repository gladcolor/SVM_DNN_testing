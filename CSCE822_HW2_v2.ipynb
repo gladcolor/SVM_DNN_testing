{
  "nbformat": 4,
  "nbformat_minor": 0,
  "metadata": {
    "colab": {
      "name": "CSCE822_HW2_v2.ipynb",
      "provenance": [],
      "collapsed_sections": [],
      "toc_visible": true,
      "mount_file_id": "1jS19KitmzfFJ7EHKaibSYIn9UnBMQbrl",
      "authorship_tag": "ABX9TyM2i685Gw2C7jlGLGawfap4",
      "include_colab_link": true
    },
    "kernelspec": {
      "name": "python3",
      "display_name": "Python 3"
    },
    "language_info": {
      "name": "python"
    },
    "accelerator": "GPU"
  },
  "cells": [
    {
      "cell_type": "markdown",
      "metadata": {
        "id": "view-in-github",
        "colab_type": "text"
      },
      "source": [
        "<a href=\"https://colab.research.google.com/github/gladcolor/SVM_DNN_testing/blob/master/CSCE822_HW2_v2.ipynb\" target=\"_parent\"><img src=\"https://colab.research.google.com/assets/colab-badge.svg\" alt=\"Open In Colab\"/></a>"
      ]
    },
    {
      "cell_type": "markdown",
      "metadata": {
        "id": "8PEaZ-2GOFjp"
      },
      "source": [
        "# Classification using SVM"
      ]
    },
    {
      "cell_type": "markdown",
      "metadata": {
        "id": "OIBmefr5003e"
      },
      "source": [
        "## Import packages"
      ]
    },
    {
      "cell_type": "code",
      "metadata": {
        "id": "4xWb6nL5k31q"
      },
      "source": [
        "import pandas as pd\n",
        "\n",
        "import numpy as np\n",
        "import os\n",
        "\n",
        "from sklearn.impute import SimpleImputer\n",
        "# import category_encoders as ce\n",
        "from sklearn.model_selection import train_test_split\n",
        "\n",
        "from sklearn.preprocessing import StandardScaler\n",
        "from sklearn import preprocessing\n",
        "from sklearn.pipeline import make_pipeline\n",
        "from sklearn.ensemble import RandomForestClassifier\n",
        "\n",
        "from sklearn.svm import SVC\n",
        "import sklearn.metrics as metrics\n",
        "from sklearn.model_selection import cross_validate\n",
        "\n",
        "from sklearn.linear_model import LinearRegression as LR\n",
        "from sklearn.metrics import r2_score"
      ],
      "execution_count": 2,
      "outputs": []
    },
    {
      "cell_type": "code",
      "metadata": {
        "colab": {
          "base_uri": "https://localhost:8080/"
        },
        "id": "2v7rzRQdFVpI",
        "outputId": "5bf180f3-4731-49c7-c153-310f4b9cd09f"
      },
      "source": [
        "cwd = r'/content/drive/MyDrive/USC_courses/CSCE822'\n",
        "if not os.path.exists(cwd):\n",
        "    os.makedirs(cwd)\n",
        "% cd $cwd"
      ],
      "execution_count": 3,
      "outputs": [
        {
          "output_type": "stream",
          "name": "stdout",
          "text": [
            "/content/drive/MyDrive/USC_courses/CSCE822\n"
          ]
        }
      ]
    },
    {
      "cell_type": "markdown",
      "metadata": {
        "id": "FJZDU1PIxnTs"
      },
      "source": [
        "## Define functions"
      ]
    },
    {
      "cell_type": "code",
      "metadata": {
        "id": "oICR2HJwxq37"
      },
      "source": [
        "def print_str_unique(df):\n",
        "    for col in df.columns:\n",
        "        if original_data.dtypes[col] == np.object:            \n",
        "            unique_cnt = len(df[col].unique())\n",
        "            print(f'Column {col.rjust(13)} has {unique_cnt:5} unique values.')\n",
        "\n",
        "def count_column_nan(df):\n",
        "    row_cnt = len(df)\n",
        "    for col in df.columns:\n",
        "        nan_cnt = df[col].isna().sum()\n",
        "        percent_str = f'({(nan_cnt / row_cnt * 100):3.1f}%)'.rjust(7)\n",
        "        print(f'Column {str(col).rjust(13)} has {nan_cnt:4} {percent_str} nan values.')       \n",
        "\n",
        "def impute_df(df, strategy=\"most_frequent\"):\n",
        "    \n",
        "    numeric_cols = ['BuildingArea', 'YearBuilt', 'Car']\n",
        "    nominal_cols = ['CouncilArea']\n",
        "\n",
        "    my_imputer = SimpleImputer(strategy=\"most_frequent\")\n",
        "    council_area_with_imputed_values = my_imputer.fit_transform(df[nominal_cols])\n",
        "    imputed_df = df.copy()\n",
        "    imputed_df.loc[:, nominal_cols] = council_area_with_imputed_values\n",
        "\n",
        "\n",
        "    if strategy == \"most_frequent\":\n",
        "        my_imputer = SimpleImputer(strategy=\"most_frequent\")\n",
        "        data_with_imputed_values = my_imputer.fit_transform(df)        \n",
        "        imputed_df.loc[:, :] = data_with_imputed_values\n",
        "\n",
        "    if strategy == \"mean\":\n",
        "        my_imputer = SimpleImputer(strategy=\"mean\")\n",
        "        area_year_with_imputed_values = my_imputer.fit_transform(df[numeric_cols])\n",
        "        imputed_df.loc[:, numeric_cols] = area_year_with_imputed_values\n",
        "\n",
        "    if strategy == \"median\":\n",
        "        my_imputer = SimpleImputer(strategy=\"median\")\n",
        "        area_year_with_imputed_values = my_imputer.fit_transform(df[numeric_cols])\n",
        "        imputed_df.loc[:, numeric_cols] = area_year_with_imputed_values\n",
        "\n",
        "    return imputed_df\n",
        "\n",
        "def encode_dates(imputed_df):\n",
        "    imputed_df['Date'] = pd.to_datetime(imputed_df['Date']) \n",
        "    imputed_df['Ori_Date'] = pd.to_datetime('1970-01-01', format='YY-m-d', errors='ignore')\n",
        "    imputed_df['Ori_Date'] = pd.to_datetime(imputed_df['Ori_Date'])\n",
        "    imputed_df['delta_days'] = imputed_df['Date'] - imputed_df['Ori_Date']\n",
        "    imputed_df['delta_days'] = imputed_df['delta_days'].dt.days\n",
        "    imputed_df = imputed_df.drop(columns=['Date', 'Ori_Date'])\n",
        "     \n",
        "    return imputed_df\n",
        "\n",
        "\n",
        "\n",
        "def encoder_nominals(imputed_df, encode_method='one_hot'):\n",
        "    # print(f'Encode methods: {ENCODING_METHODS_DICT.keys()} \\n')\n",
        "    \n",
        "    ce_encoder = ENCODING_METHODS_DICT[encode_method](cols = ENCODING_COLUMNS)\n",
        "\n",
        "    y = imputed_df['Price_class'].copy()\n",
        "    \n",
        "    for drop_column in DROPPED_COLUMNS:\n",
        "        try:\n",
        "            imputed_df = imputed_df.drop(columns=drop_column).copy()\n",
        "        except:\n",
        "            pass\n",
        "            # print(f'Columns: {drop_column} have already dropped before.')\n",
        "\n",
        "    encoded_df = ce_encoder.fit_transform(imputed_df, y=y) \n",
        "\n",
        "    return encoded_df\n",
        "\n",
        "def assign_price_class(imputed_df):\n",
        "    row_cnt = len(imputed_df)\n",
        "    price_class_cnt = 5\n",
        "    class_step = int(row_cnt / price_class_cnt)\n",
        "    price_bins = list(range(class_step, row_cnt,  class_step))\n",
        "\n",
        "    imputed_df.loc[0:price_bins[0], 'Price_class'] = '0' # 'bottom_value'\n",
        "    imputed_df.loc[price_bins[0]:price_bins[1], 'Price_class'] = '1' # 'low_value'\n",
        "    imputed_df.loc[price_bins[1]:price_bins[2], 'Price_class'] = '2' # 'medium_value'\n",
        "    imputed_df.loc[price_bins[2]:price_bins[3], 'Price_class'] = '3' # 'high_value'\n",
        "    imputed_df.loc[price_bins[3]:row_cnt, 'Price_class'] = '4'  #  'top_value'\n",
        "\n",
        "    imputed_df['Price_class'] = imputed_df['Price_class'].astype(int)\n",
        "\n",
        "    # gb = imputed_df.groupby('Price_class')['Price_class'].count().to_frame()\n",
        "    # gb.columns = ['Count']\n",
        "    # custom_dict = {'bottom_value': 0, 'low_value': 1, 'medium_value': 2, 'high_value': 3, 'top_value': 4}\n",
        "    # gb.sort_index(key=lambda x: x.map(custom_dict))\n",
        "    # print(\"Price class counts:\")\n",
        "    return imputed_df    \n",
        "\n",
        "\n",
        "def split_data(encoded_df):\n",
        "    X = encoded_df.drop(columns=['Price_class'])\n",
        "    y = encoded_df['Price_class']\n",
        "\n",
        "    train_ratio = 0.75\n",
        "    validation_ratio = 0.10\n",
        "    test_ratio = 0.15\n",
        "\n",
        "    xTrain, xTest, yTrain, yTest = train_test_split(X, y, test_size= (1 - train_ratio), random_state = 0)\n",
        "\n",
        "    xVal, xTest, yVal, yTest = train_test_split(xTest, yTest, test_size=test_ratio/(test_ratio + validation_ratio), random_state = 0) \n",
        "\n",
        "    \n",
        "    return xTrain, yTrain, xVal, yVal, xTest, yTest   \n",
        "\n",
        "def standardize_data(encoded_df, class_col='Price_class'):\n",
        "    labels = encoded_df[class_col].copy()\n",
        "    data_df = encoded_df.drop(columns=[class_col])\n",
        "    scaler = preprocessing.StandardScaler()\n",
        "    scaler.fit(data_df) \n",
        "    data_df.iloc[:, :] = scaler.transform(data_df)\n",
        "    data_df.loc[:, class_col] = labels\n",
        "    return data_df\n",
        "           \n",
        "\n",
        "\n"
      ],
      "execution_count": 4,
      "outputs": []
    },
    {
      "cell_type": "markdown",
      "metadata": {
        "id": "lIMZpvts08nT"
      },
      "source": [
        "## Load and understand the data"
      ]
    },
    {
      "cell_type": "code",
      "metadata": {
        "colab": {
          "base_uri": "https://localhost:8080/",
          "height": 237
        },
        "id": "-o6yMjxeL4am",
        "outputId": "48fa9490-3949-4928-fd01-7869882f56d4"
      },
      "source": [
        "test_csv = r'https://github.com/gladcolor/SVM_DNN_testing/raw/master/test10000.zip'\n",
        "test_label_csv = r'https://github.com/gladcolor/SVM_DNN_testing/raw/master/test10000_label.zip'\n",
        "train_csv = r'https://github.com/gladcolor/SVM_DNN_testing/raw/master/train10000.zip'\n",
        "train_label_csv = r'https://github.com/gladcolor/SVM_DNN_testing/raw/master/train10000_Label.zip'\n",
        "\n",
        "train_df = pd.read_csv(train_csv, header=None)\n",
        "train_label_df = pd.read_csv(train_label_csv, header=None)\n",
        "test_df = pd.read_csv(test_csv, header=None)\n",
        "test_label_df = pd.read_csv(test_label_csv, header=None)\n",
        "\n",
        "print(\"Training sets samples:\")\n",
        "train_df.sample(4)\n"
      ],
      "execution_count": 25,
      "outputs": [
        {
          "output_type": "stream",
          "name": "stdout",
          "text": [
            "Training sets samples:\n"
          ]
        },
        {
          "output_type": "execute_result",
          "data": {
            "text/html": [
              "<div>\n",
              "<style scoped>\n",
              "    .dataframe tbody tr th:only-of-type {\n",
              "        vertical-align: middle;\n",
              "    }\n",
              "\n",
              "    .dataframe tbody tr th {\n",
              "        vertical-align: top;\n",
              "    }\n",
              "\n",
              "    .dataframe thead th {\n",
              "        text-align: right;\n",
              "    }\n",
              "</style>\n",
              "<table border=\"1\" class=\"dataframe\">\n",
              "  <thead>\n",
              "    <tr style=\"text-align: right;\">\n",
              "      <th></th>\n",
              "      <th>0</th>\n",
              "      <th>1</th>\n",
              "      <th>2</th>\n",
              "      <th>3</th>\n",
              "      <th>4</th>\n",
              "      <th>5</th>\n",
              "      <th>6</th>\n",
              "      <th>7</th>\n",
              "      <th>8</th>\n",
              "      <th>9</th>\n",
              "      <th>10</th>\n",
              "      <th>11</th>\n",
              "      <th>12</th>\n",
              "      <th>13</th>\n",
              "      <th>14</th>\n",
              "      <th>15</th>\n",
              "      <th>16</th>\n",
              "      <th>17</th>\n",
              "      <th>18</th>\n",
              "      <th>19</th>\n",
              "      <th>20</th>\n",
              "      <th>21</th>\n",
              "      <th>22</th>\n",
              "      <th>23</th>\n",
              "      <th>24</th>\n",
              "      <th>25</th>\n",
              "      <th>26</th>\n",
              "      <th>27</th>\n",
              "      <th>28</th>\n",
              "      <th>29</th>\n",
              "      <th>30</th>\n",
              "      <th>31</th>\n",
              "      <th>32</th>\n",
              "      <th>33</th>\n",
              "      <th>34</th>\n",
              "      <th>35</th>\n",
              "      <th>36</th>\n",
              "      <th>37</th>\n",
              "      <th>38</th>\n",
              "      <th>39</th>\n",
              "      <th>...</th>\n",
              "      <th>294</th>\n",
              "      <th>295</th>\n",
              "      <th>296</th>\n",
              "      <th>297</th>\n",
              "      <th>298</th>\n",
              "      <th>299</th>\n",
              "      <th>300</th>\n",
              "      <th>301</th>\n",
              "      <th>302</th>\n",
              "      <th>303</th>\n",
              "      <th>304</th>\n",
              "      <th>305</th>\n",
              "      <th>306</th>\n",
              "      <th>307</th>\n",
              "      <th>308</th>\n",
              "      <th>309</th>\n",
              "      <th>310</th>\n",
              "      <th>311</th>\n",
              "      <th>312</th>\n",
              "      <th>313</th>\n",
              "      <th>314</th>\n",
              "      <th>315</th>\n",
              "      <th>316</th>\n",
              "      <th>317</th>\n",
              "      <th>318</th>\n",
              "      <th>319</th>\n",
              "      <th>320</th>\n",
              "      <th>321</th>\n",
              "      <th>322</th>\n",
              "      <th>323</th>\n",
              "      <th>324</th>\n",
              "      <th>325</th>\n",
              "      <th>326</th>\n",
              "      <th>327</th>\n",
              "      <th>328</th>\n",
              "      <th>329</th>\n",
              "      <th>330</th>\n",
              "      <th>331</th>\n",
              "      <th>332</th>\n",
              "      <th>333</th>\n",
              "    </tr>\n",
              "  </thead>\n",
              "  <tbody>\n",
              "    <tr>\n",
              "      <th>939</th>\n",
              "      <td>1.0</td>\n",
              "      <td>40</td>\n",
              "      <td>1.0</td>\n",
              "      <td>40</td>\n",
              "      <td>197000.0</td>\n",
              "      <td>1.0</td>\n",
              "      <td>3.0</td>\n",
              "      <td>999000.0</td>\n",
              "      <td>7.0</td>\n",
              "      <td>1.0</td>\n",
              "      <td>91</td>\n",
              "      <td>1</td>\n",
              "      <td>999000.0</td>\n",
              "      <td>1</td>\n",
              "      <td>0.0</td>\n",
              "      <td>170</td>\n",
              "      <td>419</td>\n",
              "      <td>447</td>\n",
              "      <td>315</td>\n",
              "      <td>7</td>\n",
              "      <td>911</td>\n",
              "      <td>350</td>\n",
              "      <td>854</td>\n",
              "      <td>310</td>\n",
              "      <td>2114</td>\n",
              "      <td>5</td>\n",
              "      <td>62</td>\n",
              "      <td>6006.0</td>\n",
              "      <td>0.0</td>\n",
              "      <td>31</td>\n",
              "      <td>23</td>\n",
              "      <td>1696</td>\n",
              "      <td>15</td>\n",
              "      <td>4</td>\n",
              "      <td>5</td>\n",
              "      <td>20</td>\n",
              "      <td>14</td>\n",
              "      <td>1980</td>\n",
              "      <td>1978</td>\n",
              "      <td>332</td>\n",
              "      <td>...</td>\n",
              "      <td>90</td>\n",
              "      <td>87</td>\n",
              "      <td>19</td>\n",
              "      <td>11</td>\n",
              "      <td>53</td>\n",
              "      <td>8</td>\n",
              "      <td>3</td>\n",
              "      <td>14</td>\n",
              "      <td>13</td>\n",
              "      <td>8</td>\n",
              "      <td>7</td>\n",
              "      <td>83</td>\n",
              "      <td>64</td>\n",
              "      <td>20</td>\n",
              "      <td>5</td>\n",
              "      <td>66</td>\n",
              "      <td>10</td>\n",
              "      <td>50</td>\n",
              "      <td>0</td>\n",
              "      <td>0</td>\n",
              "      <td>0</td>\n",
              "      <td>1</td>\n",
              "      <td>4</td>\n",
              "      <td>2</td>\n",
              "      <td>1</td>\n",
              "      <td>3</td>\n",
              "      <td>8</td>\n",
              "      <td>42</td>\n",
              "      <td>4</td>\n",
              "      <td>80</td>\n",
              "      <td>51</td>\n",
              "      <td>8</td>\n",
              "      <td>85</td>\n",
              "      <td>20</td>\n",
              "      <td>3</td>\n",
              "      <td>3</td>\n",
              "      <td>30</td>\n",
              "      <td>18</td>\n",
              "      <td>346</td>\n",
              "      <td>132</td>\n",
              "    </tr>\n",
              "    <tr>\n",
              "      <th>6532</th>\n",
              "      <td>999000.0</td>\n",
              "      <td>46</td>\n",
              "      <td>1.0</td>\n",
              "      <td>46</td>\n",
              "      <td>196000.0</td>\n",
              "      <td>999000.0</td>\n",
              "      <td>999000.0</td>\n",
              "      <td>8.0</td>\n",
              "      <td>5.0</td>\n",
              "      <td>999000.0</td>\n",
              "      <td>48</td>\n",
              "      <td>1</td>\n",
              "      <td>999000.0</td>\n",
              "      <td>96</td>\n",
              "      <td>999000.0</td>\n",
              "      <td>170</td>\n",
              "      <td>458</td>\n",
              "      <td>481</td>\n",
              "      <td>381</td>\n",
              "      <td>7</td>\n",
              "      <td>871</td>\n",
              "      <td>310</td>\n",
              "      <td>745</td>\n",
              "      <td>250</td>\n",
              "      <td>2463</td>\n",
              "      <td>5</td>\n",
              "      <td>54</td>\n",
              "      <td>705.0</td>\n",
              "      <td>4.0</td>\n",
              "      <td>27</td>\n",
              "      <td>36</td>\n",
              "      <td>2380</td>\n",
              "      <td>17</td>\n",
              "      <td>6</td>\n",
              "      <td>6</td>\n",
              "      <td>21</td>\n",
              "      <td>12</td>\n",
              "      <td>1965</td>\n",
              "      <td>1965</td>\n",
              "      <td>389</td>\n",
              "      <td>...</td>\n",
              "      <td>91</td>\n",
              "      <td>89</td>\n",
              "      <td>47</td>\n",
              "      <td>12</td>\n",
              "      <td>57</td>\n",
              "      <td>7</td>\n",
              "      <td>6</td>\n",
              "      <td>23</td>\n",
              "      <td>17</td>\n",
              "      <td>8</td>\n",
              "      <td>4</td>\n",
              "      <td>55</td>\n",
              "      <td>47</td>\n",
              "      <td>7</td>\n",
              "      <td>4</td>\n",
              "      <td>65</td>\n",
              "      <td>8</td>\n",
              "      <td>53</td>\n",
              "      <td>0</td>\n",
              "      <td>3</td>\n",
              "      <td>0</td>\n",
              "      <td>0</td>\n",
              "      <td>4</td>\n",
              "      <td>1</td>\n",
              "      <td>0</td>\n",
              "      <td>2</td>\n",
              "      <td>4</td>\n",
              "      <td>29</td>\n",
              "      <td>3</td>\n",
              "      <td>71</td>\n",
              "      <td>45</td>\n",
              "      <td>15</td>\n",
              "      <td>76</td>\n",
              "      <td>11</td>\n",
              "      <td>7</td>\n",
              "      <td>2</td>\n",
              "      <td>39</td>\n",
              "      <td>23</td>\n",
              "      <td>290</td>\n",
              "      <td>205</td>\n",
              "    </tr>\n",
              "    <tr>\n",
              "      <th>3792</th>\n",
              "      <td>999000.0</td>\n",
              "      <td>46</td>\n",
              "      <td>999000.0</td>\n",
              "      <td>46</td>\n",
              "      <td>196000.0</td>\n",
              "      <td>999000.0</td>\n",
              "      <td>999000.0</td>\n",
              "      <td>999000.0</td>\n",
              "      <td>999000.0</td>\n",
              "      <td>999000.0</td>\n",
              "      <td>50</td>\n",
              "      <td>2</td>\n",
              "      <td>999000.0</td>\n",
              "      <td>11</td>\n",
              "      <td>999000.0</td>\n",
              "      <td>170</td>\n",
              "      <td>410</td>\n",
              "      <td>442</td>\n",
              "      <td>301</td>\n",
              "      <td>6</td>\n",
              "      <td>513</td>\n",
              "      <td>330</td>\n",
              "      <td>509</td>\n",
              "      <td>300</td>\n",
              "      <td>1216</td>\n",
              "      <td>5</td>\n",
              "      <td>54</td>\n",
              "      <td>2078.0</td>\n",
              "      <td>5.0</td>\n",
              "      <td>36</td>\n",
              "      <td>32</td>\n",
              "      <td>1128</td>\n",
              "      <td>11</td>\n",
              "      <td>3</td>\n",
              "      <td>5</td>\n",
              "      <td>16</td>\n",
              "      <td>10</td>\n",
              "      <td>1965</td>\n",
              "      <td>1968</td>\n",
              "      <td>308</td>\n",
              "      <td>...</td>\n",
              "      <td>78</td>\n",
              "      <td>74</td>\n",
              "      <td>49</td>\n",
              "      <td>7</td>\n",
              "      <td>49</td>\n",
              "      <td>5</td>\n",
              "      <td>7</td>\n",
              "      <td>24</td>\n",
              "      <td>15</td>\n",
              "      <td>36</td>\n",
              "      <td>23</td>\n",
              "      <td>66</td>\n",
              "      <td>47</td>\n",
              "      <td>4</td>\n",
              "      <td>8</td>\n",
              "      <td>75</td>\n",
              "      <td>13</td>\n",
              "      <td>27</td>\n",
              "      <td>0</td>\n",
              "      <td>6</td>\n",
              "      <td>0</td>\n",
              "      <td>1</td>\n",
              "      <td>19</td>\n",
              "      <td>0</td>\n",
              "      <td>0</td>\n",
              "      <td>8</td>\n",
              "      <td>30</td>\n",
              "      <td>24</td>\n",
              "      <td>18</td>\n",
              "      <td>11</td>\n",
              "      <td>7</td>\n",
              "      <td>2</td>\n",
              "      <td>12</td>\n",
              "      <td>2</td>\n",
              "      <td>5</td>\n",
              "      <td>2</td>\n",
              "      <td>12</td>\n",
              "      <td>7</td>\n",
              "      <td>169</td>\n",
              "      <td>117</td>\n",
              "    </tr>\n",
              "    <tr>\n",
              "      <th>3687</th>\n",
              "      <td>999000.0</td>\n",
              "      <td>46</td>\n",
              "      <td>1.0</td>\n",
              "      <td>46</td>\n",
              "      <td>196000.0</td>\n",
              "      <td>2.0</td>\n",
              "      <td>999000.0</td>\n",
              "      <td>999000.0</td>\n",
              "      <td>7.0</td>\n",
              "      <td>999000.0</td>\n",
              "      <td>51</td>\n",
              "      <td>2</td>\n",
              "      <td>999000.0</td>\n",
              "      <td>21</td>\n",
              "      <td>999000.0</td>\n",
              "      <td>170</td>\n",
              "      <td>483</td>\n",
              "      <td>512</td>\n",
              "      <td>393</td>\n",
              "      <td>7</td>\n",
              "      <td>746</td>\n",
              "      <td>290</td>\n",
              "      <td>651</td>\n",
              "      <td>250</td>\n",
              "      <td>1857</td>\n",
              "      <td>4</td>\n",
              "      <td>62</td>\n",
              "      <td>2318.0</td>\n",
              "      <td>8.0</td>\n",
              "      <td>25</td>\n",
              "      <td>14</td>\n",
              "      <td>1522</td>\n",
              "      <td>11</td>\n",
              "      <td>3</td>\n",
              "      <td>4</td>\n",
              "      <td>20</td>\n",
              "      <td>14</td>\n",
              "      <td>1988</td>\n",
              "      <td>1986</td>\n",
              "      <td>408</td>\n",
              "      <td>...</td>\n",
              "      <td>84</td>\n",
              "      <td>65</td>\n",
              "      <td>28</td>\n",
              "      <td>12</td>\n",
              "      <td>45</td>\n",
              "      <td>8</td>\n",
              "      <td>5</td>\n",
              "      <td>20</td>\n",
              "      <td>12</td>\n",
              "      <td>16</td>\n",
              "      <td>8</td>\n",
              "      <td>77</td>\n",
              "      <td>63</td>\n",
              "      <td>2</td>\n",
              "      <td>4</td>\n",
              "      <td>57</td>\n",
              "      <td>7</td>\n",
              "      <td>49</td>\n",
              "      <td>0</td>\n",
              "      <td>1</td>\n",
              "      <td>0</td>\n",
              "      <td>1</td>\n",
              "      <td>1</td>\n",
              "      <td>0</td>\n",
              "      <td>0</td>\n",
              "      <td>6</td>\n",
              "      <td>13</td>\n",
              "      <td>34</td>\n",
              "      <td>5</td>\n",
              "      <td>80</td>\n",
              "      <td>48</td>\n",
              "      <td>18</td>\n",
              "      <td>83</td>\n",
              "      <td>14</td>\n",
              "      <td>7</td>\n",
              "      <td>4</td>\n",
              "      <td>58</td>\n",
              "      <td>18</td>\n",
              "      <td>339</td>\n",
              "      <td>149</td>\n",
              "    </tr>\n",
              "  </tbody>\n",
              "</table>\n",
              "<p>4 rows × 334 columns</p>\n",
              "</div>"
            ],
            "text/plain": [
              "           0    1         2    3         4    ...  329  330  331  332  333\n",
              "939        1.0   40       1.0   40  197000.0  ...    3   30   18  346  132\n",
              "6532  999000.0   46       1.0   46  196000.0  ...    2   39   23  290  205\n",
              "3792  999000.0   46  999000.0   46  196000.0  ...    2   12    7  169  117\n",
              "3687  999000.0   46       1.0   46  196000.0  ...    4   58   18  339  149\n",
              "\n",
              "[4 rows x 334 columns]"
            ]
          },
          "metadata": {},
          "execution_count": 25
        }
      ]
    },
    {
      "cell_type": "code",
      "metadata": {
        "colab": {
          "base_uri": "https://localhost:8080/",
          "height": 256
        },
        "id": "ESJ1v2ctmXMn",
        "outputId": "22c73e20-f11f-4e85-c40f-5a7c762f66d5"
      },
      "source": [
        "print(\"County nan data:\")\n",
        "\n",
        "print(f\"Train data have {train_df.isna().sum().sum()} nan values.\")\n",
        "print(f\"Test data have {test_df.isna().sum().sum()} nan values.\")\n",
        "\n",
        "train_1 = train_df[train_label_df[0] == 1]\n",
        "train_0 = train_df[train_label_df[0] == 0]\n",
        "\n",
        "def sample_train_dataset(positive_count=len(train_1), negative_count=len(train_1)):\n",
        "    positive_count = len(train_1)\n",
        "    negative_count = len(train_1)\n",
        "\n",
        "    balanced_train = np.concatenate((train_1.sample(positive_count, replace=True), train_0.sample(negative_count, replace=True)), axis=0)\n",
        "    balanced_train_label = np.concatenate(([1] * positive_count, [0] * negative_count), axis=0)\n",
        "\n",
        "    print(f\"Positive sample counts in the training set: {positive_count}\")\n",
        "    print(f\"Negative sample counts in the training set: {negative_count}\")\n",
        "\n",
        "    return balanced_train, balanced_train_label\n",
        "\n",
        "\n",
        "print()\n",
        "\n",
        "print(f\"Positive sample counts: {len(train_1)}\")\n",
        "print(f\"Negative sample counts: {len(train_0)}\")"
      ],
      "execution_count": null,
      "outputs": [
        {
          "output_type": "stream",
          "name": "stdout",
          "text": [
            "County nan data:\n"
          ]
        },
        {
          "output_type": "error",
          "ename": "NameError",
          "evalue": "ignored",
          "traceback": [
            "\u001b[0;31m---------------------------------------------------------------------------\u001b[0m",
            "\u001b[0;31mNameError\u001b[0m                                 Traceback (most recent call last)",
            "\u001b[0;32m<ipython-input-57-503c67d49420>\u001b[0m in \u001b[0;36m<module>\u001b[0;34m()\u001b[0m\n\u001b[1;32m      1\u001b[0m \u001b[0mprint\u001b[0m\u001b[0;34m(\u001b[0m\u001b[0;34m\"County nan data:\"\u001b[0m\u001b[0;34m)\u001b[0m\u001b[0;34m\u001b[0m\u001b[0;34m\u001b[0m\u001b[0m\n\u001b[1;32m      2\u001b[0m \u001b[0;34m\u001b[0m\u001b[0m\n\u001b[0;32m----> 3\u001b[0;31m \u001b[0mprint\u001b[0m\u001b[0;34m(\u001b[0m\u001b[0;34mf\"Train data have {train_df.isna().sum().sum()} nan values.\"\u001b[0m\u001b[0;34m)\u001b[0m\u001b[0;34m\u001b[0m\u001b[0;34m\u001b[0m\u001b[0m\n\u001b[0m\u001b[1;32m      4\u001b[0m \u001b[0mprint\u001b[0m\u001b[0;34m(\u001b[0m\u001b[0;34mf\"Test data have {test_df.isna().sum().sum()} nan values.\"\u001b[0m\u001b[0;34m)\u001b[0m\u001b[0;34m\u001b[0m\u001b[0;34m\u001b[0m\u001b[0m\n\u001b[1;32m      5\u001b[0m \u001b[0;34m\u001b[0m\u001b[0m\n",
            "\u001b[0;31mNameError\u001b[0m: name 'train_df' is not defined"
          ]
        }
      ]
    },
    {
      "cell_type": "markdown",
      "metadata": {
        "id": "mIJ1ofkC2EWC"
      },
      "source": [
        "## Train 10 SVM models in an ensemble learning manner\n",
        "\n"
      ]
    },
    {
      "cell_type": "markdown",
      "metadata": {
        "id": "pBFsjulHaEzl"
      },
      "source": [
        "### Train 10 models witouth cross validation"
      ]
    },
    {
      "cell_type": "code",
      "metadata": {
        "colab": {
          "base_uri": "https://localhost:8080/"
        },
        "id": "4SPV2nT8aFWq",
        "outputId": "c5d5f43d-761d-44a5-8f96-3e79ce5f94c9"
      },
      "source": [
        "# train 10 models\n",
        "from sklearn.model_selection import cross_val_score\n",
        "\n",
        "MODEL_CNT = int(len(train_0)/len(train_1))\n",
        "sample_cnt_per_portion = int(len(train_0)/MODEL_CNT)\n",
        "\n",
        "positive_count = len(train_1)\n",
        "negative_count = len(train_1)\n",
        "\n",
        "print(\"Model count: \", MODEL_CNT)\n",
        "print(\"sample_cnt_per_portion:\", sample_cnt_per_portion)\n",
        "trained_model_list = []\n",
        "\n",
        "score_roc_auc_list = []\n",
        "score_precision_list = []\n",
        "score_recall_list = []\n",
        "\n",
        "for i in range(MODEL_CNT):\n",
        "    print(f\"Training # {i + 1} model...\")\n",
        "    start_row = i * sample_cnt_per_portion\n",
        "    end_row = start_row + sample_cnt_per_portion\n",
        "    # print(start_row, end_row)\n",
        "\n",
        "     # create a balancd training set\n",
        "    train_1 = train_df[train_label_df[0] == 1].sample(frac=1)  # shuffle\n",
        "\n",
        "    balanced_train = np.concatenate((train_1, train_0[start_row:end_row]), axis=0)\n",
        "    balanced_train_label = np.concatenate(([1] * positive_count, [0] * negative_count), axis=0)\n",
        "\n",
        "    # Use SVM\n",
        "    # clf = make_pipeline(StandardScaler(), SVC(gamma='auto',\n",
        "    #                                           kernel='rbf',\n",
        "    #                                           verbose=True, probability=True))\n",
        "    \n",
        "    # Use random forest\n",
        "    clf = make_pipeline(StandardScaler(), RandomForestClassifier(n_estimators=500))\n",
        "\n",
        "    clf.fit(balanced_train, balanced_train_label)\n",
        "\n",
        "    trained_model_list.append(clf)\n"
      ],
      "execution_count": null,
      "outputs": [
        {
          "output_type": "stream",
          "name": "stdout",
          "text": [
            "Model count:  10\n",
            "sample_cnt_per_portion: 909\n",
            "Training # 1 model...\n",
            "Training # 2 model...\n",
            "Training # 3 model...\n",
            "Training # 4 model...\n",
            "Training # 5 model...\n",
            "Training # 6 model...\n",
            "Training # 7 model...\n",
            "Training # 8 model...\n",
            "Training # 9 model...\n",
            "Training # 10 model...\n"
          ]
        }
      ]
    },
    {
      "cell_type": "markdown",
      "metadata": {
        "id": "boerEWK9mXbH"
      },
      "source": [
        "### Evaluate the trained 10 models"
      ]
    },
    {
      "cell_type": "code",
      "metadata": {
        "id": "DLtWI6u3bQrU",
        "colab": {
          "base_uri": "https://localhost:8080/"
        },
        "outputId": "245d8be4-0f9c-4b22-995a-b7bed8c5a7df"
      },
      "source": [
        "print(\"Evaluating...\")\n",
        "test_pred_list = []\n",
        "for idx, clf in enumerate(trained_model_list):\n",
        "    print(f\"Testing # {idx + 1} model...\")\n",
        "    test_pred = clf.predict_proba(test_df)\n",
        "    test_pred_list.append(test_pred)\n"
      ],
      "execution_count": null,
      "outputs": [
        {
          "output_type": "stream",
          "name": "stdout",
          "text": [
            "Evaluating...\n",
            "Testing # 1 model...\n",
            "Testing # 2 model...\n",
            "Testing # 3 model...\n",
            "Testing # 4 model...\n",
            "Testing # 5 model...\n",
            "Testing # 6 model...\n",
            "Testing # 7 model...\n",
            "Testing # 8 model...\n",
            "Testing # 9 model...\n",
            "Testing # 10 model...\n"
          ]
        }
      ]
    },
    {
      "cell_type": "markdown",
      "metadata": {
        "id": "ggjXh9sZkvZw"
      },
      "source": [
        "### Print out assessment"
      ]
    },
    {
      "cell_type": "code",
      "metadata": {
        "colab": {
          "base_uri": "https://localhost:8080/"
        },
        "id": "XQ8Uu_LWktVA",
        "outputId": "f6ed9cbd-d17a-4401-f84d-b2af22b17053"
      },
      "source": [
        "test_pred_all = np.array(test_pred_list)\n",
        "\n",
        "pred_label = np.where(test_pred_all[:, :, 1].mean(axis=0)>0.5, 1, 0).astype(int)\n",
        "\n",
        "precision_score = metrics.precision_score(np.array(test_label_df), pred_label, average='macro')\n",
        "precision_score = metrics.precision_score(np.array(test_label_df), pred_label, average='macro')\n",
        "\n",
        "recall_score = metrics.recall_score(np.array(test_label_df), pred_label, average='macro')\n",
        "mcc_score = metrics.matthews_corrcoef(np.array(test_label_df), pred_label)\n",
        "roc_auc_score = metrics.roc_auc_score(test_label_df, test_pred_all[:, :, 1].mean(axis=0), average=None)\n",
        "\n",
        "print(\"precision_score:\", precision_score)\n",
        "print(\"recall_score:\", recall_score)\n",
        "print(\"mcc_score:\", mcc_score)\n",
        "print(\"roc_auc_score:\", roc_auc_score)"
      ],
      "execution_count": null,
      "outputs": [
        {
          "output_type": "stream",
          "name": "stdout",
          "text": [
            "precision_score: 0.5383174018953414\n",
            "recall_score: 0.6096338049093124\n",
            "mcc_score: 0.12962843151138675\n",
            "roc_auc_score: 0.6366664750885578\n"
          ]
        }
      ]
    },
    {
      "cell_type": "markdown",
      "metadata": {
        "id": "U4z2zIzAie9p"
      },
      "source": [
        "### Save the predicted label"
      ]
    },
    {
      "cell_type": "code",
      "metadata": {
        "id": "c2yYSrHbiejk"
      },
      "source": [
        "pred_label = np.where(test_pred_all[:, :, 1].mean(axis=0)>0.5, 1, 0).astype(int)\n",
        "np.savetxt('predict.csv', pred_label, fmt='%d' )"
      ],
      "execution_count": null,
      "outputs": []
    },
    {
      "cell_type": "markdown",
      "metadata": {
        "id": "pCMeGlv0xCxn"
      },
      "source": [
        "## Train 10 models with cross validation (validating scores: precision, recall, and ROC area)\n",
        "Will take about 30 min to train 300 models."
      ]
    },
    {
      "cell_type": "code",
      "metadata": {
        "colab": {
          "base_uri": "https://localhost:8080/"
        },
        "id": "kjcBiDkexMev",
        "outputId": "e8cf3a93-5049-4fa1-9081-edf8d6b35429"
      },
      "source": [
        "# train 10 models\n",
        "from sklearn.model_selection import cross_val_score\n",
        "\n",
        "MODEL_CNT = int(len(train_0)/len(train_1))\n",
        "sample_cnt_per_portion = int(len(train_0)/MODEL_CNT)\n",
        "\n",
        "positive_count = len(train_1)\n",
        "negative_count = len(train_1)\n",
        "\n",
        "print(\"Model count: \", MODEL_CNT)\n",
        "print(\"sample_cnt_per_portion:\", sample_cnt_per_portion)\n",
        "\n",
        "trained_model_list = []\n",
        "scores_precision_list = []\n",
        "scores_recall_list = []\n",
        "scores_roc_auc_list =[]\n",
        "scores_mcc_list = []\n",
        "score_accuracy_list = []\n",
        "\n",
        "USE_CROSS_VALIDATION = True   # \n",
        "\n",
        "def simple_matthews_corrcoef(true_np, predict_np):\n",
        "    cm = metrics.confusion_matrix(true_np, predict_np)\n",
        "    assert(cm.shape == (2, 2)), 'Support binary classification (2-class) only!'\n",
        "    TP = cm[1, 1]\n",
        "    TN = cm[0, 0]\n",
        "    FP = cm[0, 1]\n",
        "    FN = cm[1, 0]\n",
        "\n",
        "    MCC = (TP * TN - FP * FN) / (np.sqrt((TP + FP) * (TP + FN) * (TN + FP) * (TN + FN)))\n",
        "\n",
        "    return MCC\n",
        "\n",
        "for i in range(MODEL_CNT):\n",
        "    print(f\"Training # {i + 1} model...\")\n",
        "    start_row = i * sample_cnt_per_portion\n",
        "    end_row = start_row + sample_cnt_per_portion\n",
        "    # print(start_row, end_row)\n",
        "\n",
        "    # create a balancd training set\n",
        "    balanced_train = np.concatenate((train_1, train_0[start_row:end_row]), axis=0)\n",
        "    balanced_train_label = np.concatenate(([1] * positive_count, [0] * negative_count), axis=0)\n",
        "    \n",
        "    \n",
        "\n",
        "    clf = make_pipeline(StandardScaler(), SVC(gamma='auto',\n",
        "                                              kernel='rbf',\n",
        "                                              verbose=True, probability=True))\n",
        "\n",
        "\n",
        "    # # calcuate precision, recall, AUC. actually train the model 300 times.\n",
        "    score_recall = cross_val_score(clf, balanced_train, balanced_train_label, cv=10, scoring='recall')\n",
        "    score_precision = cross_val_score(clf, balanced_train, balanced_train_label, cv=10, scoring='precision')\n",
        "    score_roc_auc = cross_val_score(clf, balanced_train, balanced_train_label, cv=10, scoring='roc_auc')\n",
        "\n",
        "\n",
        "    print(\"\\n%0.2f precision with a standard deviation of %0.2f\" % (score_precision.mean(), score_precision.std()))\n",
        "    print(\"\\n%0.2f recall with a standard deviation of %0.2f\" % (score_recall.mean(), score_recall.std()))\n",
        "    print(\"\\n%0.2f AUC with a standard deviation of %0.2f\" % (score_roc_auc.mean(), score_roc_auc.std()))\n",
        "\n",
        "    trained_model_list.append(clf)\n",
        "    scores_list.append(scores)\n",
        "\n",
        "    scores_precision_list.append(score_precision)\n",
        "    scores_recall_list.append(score_recall)\n",
        "    # scores_roc_auc_list.append(score_roc_auc)\n",
        "\n",
        "    # To calculate MCC only, actally train 100 models.\n",
        "    # score_accuracy = cross_validate(clf, balanced_train, balanced_train_label, cv=10, return_estimator=True)\n",
        "    # score_accuracy_list.append(score_accuracy)\n",
        "\n"
      ],
      "execution_count": null,
      "outputs": [
        {
          "output_type": "stream",
          "name": "stdout",
          "text": [
            "Model count:  10\n",
            "sample_cnt_per_portion: 909\n",
            "Training # 1 model...\n",
            "[LibSVM][LibSVM][LibSVM]Training # 2 model...\n",
            "[LibSVM][LibSVM][LibSVM]Training # 3 model...\n",
            "[LibSVM][LibSVM][LibSVM]Training # 4 model...\n",
            "[LibSVM][LibSVM][LibSVM]Training # 5 model...\n",
            "[LibSVM][LibSVM][LibSVM]Training # 6 model...\n",
            "[LibSVM][LibSVM][LibSVM]Training # 7 model...\n",
            "[LibSVM][LibSVM][LibSVM]Training # 8 model...\n",
            "[LibSVM][LibSVM][LibSVM]Training # 9 model...\n",
            "[LibSVM][LibSVM][LibSVM]Training # 10 model...\n",
            "[LibSVM][LibSVM][LibSVM]"
          ]
        }
      ]
    },
    {
      "cell_type": "markdown",
      "metadata": {
        "id": "k7DzfmynGXm1"
      },
      "source": [
        ""
      ]
    },
    {
      "cell_type": "markdown",
      "metadata": {
        "id": "VPNIsc_BGlJk"
      },
      "source": [
        "## Train 10 models with cross validation (validating scores:  Matthew coefficient)"
      ]
    },
    {
      "cell_type": "code",
      "metadata": {
        "colab": {
          "base_uri": "https://localhost:8080/"
        },
        "id": "KnN9j0L_Gfyr",
        "outputId": "8e6d402c-502c-4c34-e3f0-14af94d835e4"
      },
      "source": [
        "# train 10 models\n",
        "from sklearn.model_selection import cross_val_score\n",
        "\n",
        "MODEL_CNT = int(len(train_0)/len(train_1))\n",
        "sample_cnt_per_portion = int(len(train_0)/MODEL_CNT)\n",
        "\n",
        "positive_count = len(train_1)\n",
        "negative_count = len(train_1)\n",
        "\n",
        "print(\"Model count: \", MODEL_CNT)\n",
        "print(\"sample_cnt_per_portion:\", sample_cnt_per_portion)\n",
        "\n",
        "trained_model_list = []\n",
        "scores_precision_list = []\n",
        "scores_recall_list = []\n",
        "scores_roc_auc_list =[]\n",
        "scores_mcc_list = []\n",
        "score_accuracy_list = []\n",
        "\n",
        "USE_CROSS_VALIDATION = True   # \n",
        "\n",
        "def simple_matthews_corrcoef(true_np, predict_np):\n",
        "    cm = metrics.confusion_matrix(true_np, predict_np)\n",
        "    assert(cm.shape == (2, 2)), 'Support binary classification (2-class) only!'\n",
        "    TP = cm[1, 1]\n",
        "    TN = cm[0, 0]\n",
        "    FP = cm[0, 1]\n",
        "    FN = cm[1, 0]\n",
        "\n",
        "    MCC = (TP * TN - FP * FN) / (np.sqrt((TP + FP) * (TP + FN) * (TN + FP) * (TN + FN)))\n",
        "\n",
        "    return MCC\n",
        "\n",
        "for i in range(MODEL_CNT):\n",
        "    print(f\"Training # {i + 1} model...\")\n",
        "    start_row = i * sample_cnt_per_portion\n",
        "    end_row = start_row + sample_cnt_per_portion\n",
        "    # print(start_row, end_row)\n",
        "\n",
        "    # create a balancd training set\n",
        "    balanced_train = np.concatenate((train_1, train_0[start_row:end_row]), axis=0)\n",
        "    balanced_train_label = np.concatenate(([1] * positive_count, [0] * negative_count), axis=0)\n",
        "    \n",
        "    \n",
        "\n",
        "    clf = make_pipeline(StandardScaler(), SVC(gamma='auto',\n",
        "                                              kernel='rbf',\n",
        "                                              verbose=True, probability=True))\n",
        "\n",
        "\n",
        "    # calcuate precision, recall, AUC. actually train the model 300 times.\n",
        "    # score_recall = cross_val_score(clf, balanced_train, balanced_train_label, cv=10, scoring='recall')\n",
        "    # score_precision = cross_val_score(clf, balanced_train, balanced_train_label, cv=10, scoring='precision')\n",
        "    # score_roc_auc = cross_val_score(clf, balanced_train, balanced_train_label, cv=10, scoring='roc_auc')\n",
        "\n",
        "\n",
        "    # print(\"\\n%0.2f precision with a standard deviation of %0.2f\" % (score_precision.mean(), score_precision.std()))\n",
        "    # print(\"\\n%0.2f recall with a standard deviation of %0.2f\" % (score_recall.mean(), score_recall.std()))\n",
        "    # print(\"\\n%0.2f AUC with a standard deviation of %0.2f\" % (score_roc_auc.mean(), score_roc_auc.std()))\n",
        "\n",
        "    # trained_model_list.append(clf)\n",
        "    # scores_list.append(scores)\n",
        "\n",
        "    # scores_precision_list.append(score_precision)\n",
        "    # scores_recall_list.append(score_recall)\n",
        "    # scores_roc_auc_list.append(score_roc_auc)\n",
        "\n",
        "    # To calculate MCC only, actally train 100 models.\n",
        "    score_accuracy = cross_validate(clf, balanced_train, balanced_train_label, cv=10, return_estimator=True)\n",
        "    score_accuracy_list.append(score_accuracy)"
      ],
      "execution_count": null,
      "outputs": [
        {
          "output_type": "stream",
          "name": "stdout",
          "text": [
            "Model count:  10\n",
            "sample_cnt_per_portion: 909\n",
            "Training # 1 model...\n",
            "[LibSVM][LibSVM][LibSVM][LibSVM][LibSVM][LibSVM][LibSVM][LibSVM][LibSVM][LibSVM]Training # 2 model...\n",
            "[LibSVM][LibSVM][LibSVM][LibSVM][LibSVM][LibSVM][LibSVM][LibSVM][LibSVM][LibSVM]Training # 3 model...\n",
            "[LibSVM][LibSVM][LibSVM][LibSVM][LibSVM][LibSVM][LibSVM][LibSVM][LibSVM][LibSVM]Training # 4 model...\n",
            "[LibSVM][LibSVM][LibSVM][LibSVM][LibSVM][LibSVM][LibSVM][LibSVM][LibSVM][LibSVM]Training # 5 model...\n",
            "[LibSVM][LibSVM][LibSVM][LibSVM][LibSVM][LibSVM][LibSVM][LibSVM][LibSVM][LibSVM]Training # 6 model...\n",
            "[LibSVM][LibSVM][LibSVM][LibSVM][LibSVM][LibSVM][LibSVM][LibSVM][LibSVM][LibSVM]Training # 7 model...\n",
            "[LibSVM][LibSVM][LibSVM][LibSVM][LibSVM][LibSVM][LibSVM][LibSVM][LibSVM][LibSVM]Training # 8 model...\n",
            "[LibSVM][LibSVM][LibSVM][LibSVM][LibSVM][LibSVM][LibSVM][LibSVM][LibSVM][LibSVM]Training # 9 model...\n",
            "[LibSVM][LibSVM][LibSVM][LibSVM][LibSVM][LibSVM][LibSVM][LibSVM][LibSVM][LibSVM]Training # 10 model...\n",
            "[LibSVM][LibSVM][LibSVM][LibSVM][LibSVM][LibSVM][LibSVM][LibSVM][LibSVM][LibSVM]"
          ]
        }
      ]
    },
    {
      "cell_type": "code",
      "metadata": {
        "colab": {
          "base_uri": "https://localhost:8080/"
        },
        "id": "tpKVvB2mDsHS",
        "outputId": "6d557517-1a89-4892-fb21-41947e1d800d"
      },
      "source": [
        "# Evaluate models (100 models in total)\n",
        "def test_mcc_from_cross_validation(score_accuracy_list):\n",
        "    mcc_list = []\n",
        "    for idx, fold in enumerate(score_accuracy_list):\n",
        "        print(f\"Evaluating #{idx + 1} fold...\")\n",
        "        clfs = fold['estimator']\n",
        "        for idx2, clf in enumerate(clfs):\n",
        "            predict_labels = clf.predict(test_df)\n",
        "            mcc = metrics.matthews_corrcoef(test_label_df, predict_labels)\n",
        "            mcc_list.append(mcc)\n",
        "            print(f'Fold {idx + 1}, classifier # {idx2 + 1}, matthews_corrcoef: {mcc:0.4f}')\n",
        "    mcc_np = np.array(mcc_list)\n",
        "    return mcc_np.mean()\n",
        "\n",
        "mcc_mean = test_mcc_from_cross_validation(score_accuracy_list)\n",
        "print()\n",
        "print(\"MCC mean is: %0.4f\" % mcc_mean)"
      ],
      "execution_count": null,
      "outputs": [
        {
          "output_type": "stream",
          "name": "stdout",
          "text": [
            "Evaluating #1 fold...\n",
            "Fold 1, classifier # 1, matthews_corrcoef: 0.1127\n",
            "Fold 1, classifier # 2, matthews_corrcoef: 0.1097\n",
            "Fold 1, classifier # 3, matthews_corrcoef: 0.1204\n",
            "Fold 1, classifier # 4, matthews_corrcoef: 0.1191\n",
            "Fold 1, classifier # 5, matthews_corrcoef: 0.1175\n",
            "Fold 1, classifier # 6, matthews_corrcoef: 0.1200\n",
            "Fold 1, classifier # 7, matthews_corrcoef: 0.1165\n",
            "Fold 1, classifier # 8, matthews_corrcoef: 0.1136\n",
            "Fold 1, classifier # 9, matthews_corrcoef: 0.1173\n",
            "Fold 1, classifier # 10, matthews_corrcoef: 0.1226\n",
            "Evaluating #2 fold...\n",
            "Fold 2, classifier # 1, matthews_corrcoef: 0.1211\n",
            "Fold 2, classifier # 2, matthews_corrcoef: 0.1213\n",
            "Fold 2, classifier # 3, matthews_corrcoef: 0.1277\n",
            "Fold 2, classifier # 4, matthews_corrcoef: 0.1242\n",
            "Fold 2, classifier # 5, matthews_corrcoef: 0.1269\n",
            "Fold 2, classifier # 6, matthews_corrcoef: 0.1174\n",
            "Fold 2, classifier # 7, matthews_corrcoef: 0.1184\n",
            "Fold 2, classifier # 8, matthews_corrcoef: 0.1253\n",
            "Fold 2, classifier # 9, matthews_corrcoef: 0.1290\n",
            "Fold 2, classifier # 10, matthews_corrcoef: 0.1299\n",
            "Evaluating #3 fold...\n",
            "Fold 3, classifier # 1, matthews_corrcoef: 0.1192\n",
            "Fold 3, classifier # 2, matthews_corrcoef: 0.1215\n",
            "Fold 3, classifier # 3, matthews_corrcoef: 0.1262\n",
            "Fold 3, classifier # 4, matthews_corrcoef: 0.1166\n",
            "Fold 3, classifier # 5, matthews_corrcoef: 0.1159\n",
            "Fold 3, classifier # 6, matthews_corrcoef: 0.1230\n",
            "Fold 3, classifier # 7, matthews_corrcoef: 0.1232\n",
            "Fold 3, classifier # 8, matthews_corrcoef: 0.1243\n",
            "Fold 3, classifier # 9, matthews_corrcoef: 0.1207\n",
            "Fold 3, classifier # 10, matthews_corrcoef: 0.1234\n",
            "Evaluating #4 fold...\n",
            "Fold 4, classifier # 1, matthews_corrcoef: 0.1174\n",
            "Fold 4, classifier # 2, matthews_corrcoef: 0.1182\n",
            "Fold 4, classifier # 3, matthews_corrcoef: 0.1130\n",
            "Fold 4, classifier # 4, matthews_corrcoef: 0.1154\n",
            "Fold 4, classifier # 5, matthews_corrcoef: 0.1169\n",
            "Fold 4, classifier # 6, matthews_corrcoef: 0.1210\n",
            "Fold 4, classifier # 7, matthews_corrcoef: 0.1256\n",
            "Fold 4, classifier # 8, matthews_corrcoef: 0.1164\n",
            "Fold 4, classifier # 9, matthews_corrcoef: 0.1182\n",
            "Fold 4, classifier # 10, matthews_corrcoef: 0.1210\n",
            "Evaluating #5 fold...\n",
            "Fold 5, classifier # 1, matthews_corrcoef: 0.1080\n",
            "Fold 5, classifier # 2, matthews_corrcoef: 0.1110\n",
            "Fold 5, classifier # 3, matthews_corrcoef: 0.1048\n",
            "Fold 5, classifier # 4, matthews_corrcoef: 0.1101\n",
            "Fold 5, classifier # 5, matthews_corrcoef: 0.1167\n",
            "Fold 5, classifier # 6, matthews_corrcoef: 0.0942\n",
            "Fold 5, classifier # 7, matthews_corrcoef: 0.1022\n",
            "Fold 5, classifier # 8, matthews_corrcoef: 0.1101\n",
            "Fold 5, classifier # 9, matthews_corrcoef: 0.1052\n",
            "Fold 5, classifier # 10, matthews_corrcoef: 0.1067\n",
            "Evaluating #6 fold...\n",
            "Fold 6, classifier # 1, matthews_corrcoef: 0.1216\n",
            "Fold 6, classifier # 2, matthews_corrcoef: 0.1229\n",
            "Fold 6, classifier # 3, matthews_corrcoef: 0.1287\n",
            "Fold 6, classifier # 4, matthews_corrcoef: 0.1139\n",
            "Fold 6, classifier # 5, matthews_corrcoef: 0.1173\n",
            "Fold 6, classifier # 6, matthews_corrcoef: 0.1239\n",
            "Fold 6, classifier # 7, matthews_corrcoef: 0.1198\n",
            "Fold 6, classifier # 8, matthews_corrcoef: 0.1238\n",
            "Fold 6, classifier # 9, matthews_corrcoef: 0.1259\n",
            "Fold 6, classifier # 10, matthews_corrcoef: 0.1221\n",
            "Evaluating #7 fold...\n",
            "Fold 7, classifier # 1, matthews_corrcoef: 0.1165\n",
            "Fold 7, classifier # 2, matthews_corrcoef: 0.1242\n",
            "Fold 7, classifier # 3, matthews_corrcoef: 0.1143\n",
            "Fold 7, classifier # 4, matthews_corrcoef: 0.1159\n",
            "Fold 7, classifier # 5, matthews_corrcoef: 0.1234\n",
            "Fold 7, classifier # 6, matthews_corrcoef: 0.1124\n",
            "Fold 7, classifier # 7, matthews_corrcoef: 0.1170\n",
            "Fold 7, classifier # 8, matthews_corrcoef: 0.1118\n",
            "Fold 7, classifier # 9, matthews_corrcoef: 0.1254\n",
            "Fold 7, classifier # 10, matthews_corrcoef: 0.1205\n",
            "Evaluating #8 fold...\n",
            "Fold 8, classifier # 1, matthews_corrcoef: 0.1289\n",
            "Fold 8, classifier # 2, matthews_corrcoef: 0.1270\n",
            "Fold 8, classifier # 3, matthews_corrcoef: 0.1163\n",
            "Fold 8, classifier # 4, matthews_corrcoef: 0.1280\n",
            "Fold 8, classifier # 5, matthews_corrcoef: 0.1267\n",
            "Fold 8, classifier # 6, matthews_corrcoef: 0.1303\n",
            "Fold 8, classifier # 7, matthews_corrcoef: 0.1253\n",
            "Fold 8, classifier # 8, matthews_corrcoef: 0.1297\n",
            "Fold 8, classifier # 9, matthews_corrcoef: 0.1261\n",
            "Fold 8, classifier # 10, matthews_corrcoef: 0.1243\n",
            "Evaluating #9 fold...\n",
            "Fold 9, classifier # 1, matthews_corrcoef: 0.1271\n",
            "Fold 9, classifier # 2, matthews_corrcoef: 0.1258\n",
            "Fold 9, classifier # 3, matthews_corrcoef: 0.1241\n",
            "Fold 9, classifier # 4, matthews_corrcoef: 0.1217\n",
            "Fold 9, classifier # 5, matthews_corrcoef: 0.1237\n",
            "Fold 9, classifier # 6, matthews_corrcoef: 0.1202\n",
            "Fold 9, classifier # 7, matthews_corrcoef: 0.1253\n",
            "Fold 9, classifier # 8, matthews_corrcoef: 0.1216\n",
            "Fold 9, classifier # 9, matthews_corrcoef: 0.1278\n",
            "Fold 9, classifier # 10, matthews_corrcoef: 0.1276\n",
            "Evaluating #10 fold...\n",
            "Fold 10, classifier # 1, matthews_corrcoef: 0.1147\n",
            "Fold 10, classifier # 2, matthews_corrcoef: 0.1107\n",
            "Fold 10, classifier # 3, matthews_corrcoef: 0.1180\n",
            "Fold 10, classifier # 4, matthews_corrcoef: 0.1208\n",
            "Fold 10, classifier # 5, matthews_corrcoef: 0.1233\n",
            "Fold 10, classifier # 6, matthews_corrcoef: 0.1184\n",
            "Fold 10, classifier # 7, matthews_corrcoef: 0.1293\n",
            "Fold 10, classifier # 8, matthews_corrcoef: 0.1211\n",
            "Fold 10, classifier # 9, matthews_corrcoef: 0.1137\n",
            "Fold 10, classifier # 10, matthews_corrcoef: 0.1160\n",
            "\n",
            "MCC mean is: 0.1197\n"
          ]
        }
      ]
    },
    {
      "cell_type": "markdown",
      "metadata": {
        "id": "1bFE4MffDrmP"
      },
      "source": [
        ""
      ]
    },
    {
      "cell_type": "code",
      "metadata": {
        "colab": {
          "base_uri": "https://localhost:8080/"
        },
        "id": "dzAoSjPJCdwi",
        "outputId": "c170318d-3413-4280-a449-ba0b51039bda"
      },
      "source": [
        "score_accuracy_list[8]['test_score'].mean()"
      ],
      "execution_count": null,
      "outputs": [
        {
          "output_type": "execute_result",
          "data": {
            "text/plain": [
              "0.614932305263797"
            ]
          },
          "metadata": {},
          "execution_count": 165
        }
      ]
    },
    {
      "cell_type": "code",
      "metadata": {
        "id": "xJtSZ5SNCxeB"
      },
      "source": [
        "predict_labels = score_accuracy_list[0]['estimator'][0].predict(test_df)"
      ],
      "execution_count": null,
      "outputs": []
    },
    {
      "cell_type": "code",
      "metadata": {
        "colab": {
          "base_uri": "https://localhost:8080/"
        },
        "id": "8zWXt8xfDXnT",
        "outputId": "8e7fd9a4-62d7-4ad1-9baa-9edad80386be"
      },
      "source": [
        "mcc = metrics.matthews_corrcoef(test_label_df, predict_labels)\n",
        "mcc"
      ],
      "execution_count": null,
      "outputs": [
        {
          "output_type": "execute_result",
          "data": {
            "text/plain": [
              "0.11273251475330465"
            ]
          },
          "metadata": {},
          "execution_count": 173
        }
      ]
    },
    {
      "cell_type": "code",
      "metadata": {
        "id": "7V7nz13H-xHP"
      },
      "source": [
        "clf.predict()\n",
        "\n",
        "# calculate MCC\n",
        "mcc_score = simple_matthews_corrcoef())\n",
        "scores_mcc_list.append(mcc_score)"
      ],
      "execution_count": null,
      "outputs": []
    },
    {
      "cell_type": "markdown",
      "metadata": {
        "id": "jVczoNnFnnqB"
      },
      "source": [
        "# Program to calculate model performance from two label files: Precision, Recall, MCC"
      ]
    },
    {
      "cell_type": "markdown",
      "metadata": {
        "id": "Pgq9pUAMn065"
      },
      "source": [
        "## Load data"
      ]
    },
    {
      "cell_type": "code",
      "metadata": {
        "id": "7tOujpNPnzES"
      },
      "source": [
        "label_csv = r'https://github.com/gladcolor/SVM_DNN_testing/raw/master/test10000_label.zip'\n",
        "predict_csv = r'https://raw.githubusercontent.com/gladcolor/SVM_DNN_testing/master/predict.csv'\n",
        "\n",
        "label_df = pd.read_csv(label_csv)\n",
        "predict_df = pd.read_csv(predict_csv)\n",
        "\n",
        "\n",
        "true_np = np.array(label_df)\n",
        "predict_np = np.array(predict_df)"
      ],
      "execution_count": null,
      "outputs": []
    },
    {
      "cell_type": "markdown",
      "metadata": {
        "id": "5UpvkGmX-Zck"
      },
      "source": [
        "## Define metrics class"
      ]
    },
    {
      "cell_type": "code",
      "metadata": {
        "colab": {
          "base_uri": "https://localhost:8080/"
        },
        "id": "lrINqCKqo2_7",
        "outputId": "0999ba8f-70fb-4224-fd06-515c1dc97711"
      },
      "source": [
        "class simple_metrics():\n",
        "\n",
        "    @staticmethod\n",
        "    def _load_data(true_csv, predict_csv):\n",
        "        true_csv = r'https://github.com/gladcolor/SVM_DNN_testing/raw/master/test10000_label.zip'\n",
        "        predict_csv = r'https://raw.githubusercontent.com/gladcolor/SVM_DNN_testing/master/predict.csv'\n",
        "\n",
        "        true_df = pd.read_csv(true_csv)\n",
        "        predict_df = pd.read_csv(predict_csv)\n",
        "\n",
        "        true_np = np.array(true_df)\n",
        "        predict_np = np.array(predict_df)\n",
        "\n",
        "        return true_np, predict_np\n",
        "\n",
        "    @staticmethod\n",
        "    def get_confusion_matrix(true_np, predict_np): # inputs: should be integer numpy array (1D), using the same class index schema.\n",
        "        true_unique = np.unique(true_np)\n",
        "        predict_unique = np.unique(predict_np)\n",
        "\n",
        "        cm = np.zeros((len(true_unique), len(true_unique)), dtype=int)   # cm: confusion_matrix, row is actual, column is predicted\n",
        "\n",
        "        for true_, pred in zip(true_np[:].flatten(), predict_np[:].flatten()):\n",
        "            cm[true_, pred] += 1\n",
        "            # print(true_, pred)\n",
        "        return cm\n",
        "\n",
        "    @staticmethod\n",
        "    def precision_recall_score(true_csv, predict_csv):  # CSV file has one column only withoud header.\n",
        "        true_np, predict_np = simple_metrics._load_data(true_csv, predict_csv)\n",
        "        confusion_matrix = simple_metrics.get_confusion_matrix(true_np, predict_np)\n",
        "        class_cnt = confusion_matrix.shape[0]\n",
        "        precisions = np.zeros((class_cnt))\n",
        "        recalls = np.zeros((class_cnt))\n",
        "\n",
        " \n",
        "\n",
        "        # compute recall, precision\n",
        "        for c in range(class_cnt):\n",
        "            TP = confusion_matrix[c, c]\n",
        "            TP_FP = confusion_matrix[c, :].sum()\n",
        "            TP_FN = confusion_matrix[:, c].sum()\n",
        "            recalls[c] = TP / TP_FP\n",
        "            precisions[c] = TP / TP_FN\n",
        "\n",
        "        return precisions, recalls\n",
        "\n",
        "    @staticmethod\n",
        "    def matthews_corrcoef(true_csv, predict_csv): # CSV file has one column only withoud header.\n",
        "        MCC = 0\n",
        "        # compute MCC, current for binary classification only\n",
        "        \n",
        "        cm = simple_metrics.get_confusion_matrix(true_np, predict_np)\n",
        "        assert(cm.shape == (2, 2)), 'Support binary classification (2-class) only!'\n",
        "        TP = cm[1, 1]\n",
        "        TN = cm[0, 0]\n",
        "        FP = cm[0, 1]\n",
        "        FN = cm[1, 0]\n",
        "\n",
        "        MCC = (TP * TN - FP * FN) / (np.sqrt((TP + FP) * (TP + FN) * (TN + FP) * (TN + FN)))\n",
        "        # https://en.wikipedia.org/wiki/Matthews_correlation_coefficient\n",
        "        return MCC\n",
        "\n",
        "class_precision, class_recall = simple_metrics.precision_recall_score(label_csv, predict_csv)\n",
        "MCC =  simple_metrics.matthews_corrcoef(label_csv, predict_csv)\n",
        "\n",
        "print(\"My results:\")\n",
        "print('class_precision:', class_precision.round(4))\n",
        "print('class_recall：', class_recall.round(4))\n",
        "print('Matthews_corrcoef: %.4f' % MCC)\n",
        "\n",
        "\n",
        "print()\n",
        "print(\"sklearn results:\")\n",
        "rpt = metrics.classification_report(true_np, predict_np, digits=4)\n",
        "print(rpt)\n",
        "print()\n",
        "print(\"sklearn matthews_corrcoef: %.4f\" % metrics.matthews_corrcoef(true_np, predict_np))"
      ],
      "execution_count": null,
      "outputs": [
        {
          "output_type": "stream",
          "name": "stdout",
          "text": [
            "My results:\n",
            "class_precision: [0.9392 0.1409]\n",
            "class_recall： [0.6082 0.6198]\n",
            "Matthews_corrcoef: 0.1351\n",
            "\n",
            "sklearn results:\n",
            "              precision    recall  f1-score   support\n",
            "\n",
            "           0     0.9392    0.6082    0.7383      9060\n",
            "           1     0.1409    0.6198    0.2295       939\n",
            "\n",
            "    accuracy                         0.6093      9999\n",
            "   macro avg     0.5400    0.6140    0.4839      9999\n",
            "weighted avg     0.8642    0.6093    0.6905      9999\n",
            "\n",
            "\n",
            "sklearn matthews_corrcoef: 0.1351\n"
          ]
        }
      ]
    },
    {
      "cell_type": "markdown",
      "metadata": {
        "id": "iRkS-ej04VAP"
      },
      "source": [
        "# DNN for thermal regression"
      ]
    },
    {
      "cell_type": "markdown",
      "metadata": {
        "id": "YWa0pMq25AV8"
      },
      "source": [
        "## Load packages"
      ]
    },
    {
      "cell_type": "code",
      "metadata": {
        "id": "vfJreLSO5IIz"
      },
      "source": [
        "import numpy as np\n",
        "import pandas as pd\n",
        "import matplotlib.pyplot as plt\n",
        "import torch\n",
        "import torch.optim as optim\n",
        "import warnings\n",
        "warnings.filterwarnings('ignore')\n",
        "%matplotlib inline\n",
        "\n"
      ],
      "execution_count": 5,
      "outputs": []
    },
    {
      "cell_type": "markdown",
      "metadata": {
        "id": "h12DftNw4cNQ"
      },
      "source": [
        "## Load data"
      ]
    },
    {
      "cell_type": "code",
      "metadata": {
        "id": "N2PU5z2iwGkM",
        "colab": {
          "base_uri": "https://localhost:8080/"
        },
        "outputId": "03aef3af-d705-4df7-f785-5f54f548b656"
      },
      "source": [
        "data_csv = r'https://raw.githubusercontent.com/gladcolor/SVM_DNN_testing/master/themal_dataset.csv'\n",
        "\n",
        "data_df = pd.read_csv(data_csv)\n",
        "data_df = data_df[data_df['y-exp'] < 500]   # remove two outliers\n",
        "features_df = data_df.iloc[:, 1:21]\n",
        "y_label = data_df.iloc[:, 21]\n",
        "y_theory = data_df.iloc[:, 22]\n",
        "y_label = np.array(y_label)\n",
        "print(\"features_df.shape: \", features_df.shape)\n",
        "print(\"y_label.shape: \", y_label.shape)\n"
      ],
      "execution_count": 26,
      "outputs": [
        {
          "output_type": "stream",
          "name": "stdout",
          "text": [
            "features_df.shape:  (368, 20)\n",
            "y_label.shape:  (368,)\n"
          ]
        }
      ]
    },
    {
      "cell_type": "markdown",
      "metadata": {
        "id": "Tb4N5NY38_kM"
      },
      "source": [
        "## Standardize features"
      ]
    },
    {
      "cell_type": "code",
      "metadata": {
        "colab": {
          "base_uri": "https://localhost:8080/"
        },
        "id": "0RVhn-tp5ivh",
        "outputId": "bc5f28f9-f1be-43b2-9156-648d1d310864"
      },
      "source": [
        "from sklearn import preprocessing\n",
        "input_features = preprocessing.StandardScaler().fit_transform(features_df)\n",
        "\n",
        "print(\"Feature shape:\", input_features.shape)"
      ],
      "execution_count": 13,
      "outputs": [
        {
          "output_type": "stream",
          "name": "stdout",
          "text": [
            "Feature shape: (368, 20)\n"
          ]
        }
      ]
    },
    {
      "cell_type": "markdown",
      "metadata": {
        "id": "18ZhhehdOiqk"
      },
      "source": [
        "## Customize a Pytorch dataloader"
      ]
    },
    {
      "cell_type": "code",
      "metadata": {
        "id": "oYDwPgF9ikfY"
      },
      "source": [
        "from torch.utils.data import Dataset\n",
        "from torch.utils.data import DataLoader\n",
        "from torch import nn\n",
        "import torch.nn.functional as F\n",
        "\n",
        "\n",
        "class FeatureDataset(Dataset):\n",
        "    def __init__(self, features_np, labels_np):\n",
        "        features_np = preprocessing.StandardScaler().fit_transform(features_np)\n",
        "        self.features = torch.from_numpy(features_np)\n",
        "        self.labels = torch.from_numpy(labels_np)\n",
        "\n",
        "    def __len__(self):\n",
        "        return len(self.features)\n",
        "\n",
        "    def __getitem__(self, index):\n",
        "        features = self.features[index, :]        \n",
        "        label = self.labels[index]\n",
        "        \n",
        "        return features, label\n",
        "\n",
        "# list(train_dataloader)"
      ],
      "execution_count": 14,
      "outputs": []
    },
    {
      "cell_type": "markdown",
      "metadata": {
        "id": "MA4bsEz9RTq_"
      },
      "source": [
        "## Define a neural network"
      ]
    },
    {
      "cell_type": "code",
      "metadata": {
        "colab": {
          "base_uri": "https://localhost:8080/"
        },
        "id": "00274HwaRS0i",
        "outputId": "e3172c21-5394-46ad-98e1-cd46bf7cee92"
      },
      "source": [
        "\n",
        "INPUT_SIZE = input_features.shape[1] # 20\n",
        "OUTPUT_SIZE = 1\n",
        "HIDDEN_SIZE = 256\n",
        "\n",
        "class Net(nn.Module):\n",
        "    def __init__(self):\n",
        "        super(Net, self).__init__()\n",
        "        self.fc1 = nn.Linear(INPUT_SIZE, HIDDEN_SIZE)\n",
        "        self.fc2 = nn.Linear(HIDDEN_SIZE, HIDDEN_SIZE)\n",
        "        self.fc3 = nn.Linear(HIDDEN_SIZE, OUTPUT_SIZE)\n",
        "\n",
        "    def forward(self, x):     \n",
        "        x = self.fc1(x)        \n",
        "        x = self.fc2(x)\n",
        "        x = F.relu(x)\n",
        "        x = self.fc3(x)\n",
        "        \n",
        "        return x\n",
        "\n",
        "net = Net().to('cuda')\n",
        "print(net)\n",
        " \n",
        "\n",
        "my_nn = torch.nn.Sequential(    \n",
        "    torch.nn.Linear(INPUT_SIZE, HIDDEN_SIZE),\n",
        "    torch.nn.Linear(HIDDEN_SIZE, HIDDEN_SIZE),    \n",
        "    torch.nn.ReLU(),    \n",
        "    torch.nn.Linear(HIDDEN_SIZE, OUTPUT_SIZE),\n",
        ").to('cuda')  #  better, do not understand\n",
        "\n",
        "print(my_nn)"
      ],
      "execution_count": 15,
      "outputs": [
        {
          "output_type": "stream",
          "name": "stdout",
          "text": [
            "Net(\n",
            "  (fc1): Linear(in_features=20, out_features=256, bias=True)\n",
            "  (fc2): Linear(in_features=256, out_features=256, bias=True)\n",
            "  (fc3): Linear(in_features=256, out_features=1, bias=True)\n",
            ")\n",
            "Sequential(\n",
            "  (0): Linear(in_features=20, out_features=256, bias=True)\n",
            "  (1): Linear(in_features=256, out_features=256, bias=True)\n",
            "  (2): ReLU()\n",
            "  (3): Linear(in_features=256, out_features=1, bias=True)\n",
            ")\n"
          ]
        }
      ]
    },
    {
      "cell_type": "code",
      "metadata": {
        "colab": {
          "base_uri": "https://localhost:8080/"
        },
        "id": "f_ZnKVuotcDs",
        "outputId": "5596b772-5665-4fdc-efd6-466000d8d7ff"
      },
      "source": [
        "input_features.shape"
      ],
      "execution_count": null,
      "outputs": [
        {
          "output_type": "execute_result",
          "data": {
            "text/plain": [
              "(368, 20)"
            ]
          },
          "metadata": {},
          "execution_count": 8
        }
      ]
    },
    {
      "cell_type": "markdown",
      "metadata": {
        "id": "MrSjzCVoCaLv"
      },
      "source": [
        "## Train the model"
      ]
    },
    {
      "cell_type": "code",
      "metadata": {
        "id": "uHasAnOpQdMR",
        "colab": {
          "base_uri": "https://localhost:8080/",
          "height": 892
        },
        "outputId": "d4c4ae11-7c7b-4451-e49c-229ed078c694"
      },
      "source": [
        "from sklearn.model_selection import KFold\n",
        "from IPython.display import clear_output\n",
        "import sklearn.metrics as metrics\n",
        "\n",
        "\n",
        "fold_k = 10\n",
        "BATCH_SIZE = 8\n",
        "epoch_cnt = 20000\n",
        "\n",
        "input_features = preprocessing.StandardScaler().fit_transform(features_df)\n",
        "\n",
        "\n",
        "feature_dataset = FeatureDataset(features_np=input_features, labels_np=y_label)\n",
        "train_dataloader = DataLoader(feature_dataset, batch_size=BATCH_SIZE, shuffle=True)\n",
        "\n",
        "k_fold_spliter = KFold(n_splits=fold_k, random_state=None, shuffle=True)\n",
        "\n",
        "\n",
        "cost = torch.nn.MSELoss(reduction='mean')\n",
        "\n",
        "fig, ax = plt.subplots(figsize=(5, 5))\n",
        "\n",
        "def draw_loss(losses):\n",
        "    clear_output()\n",
        "    print(step, np.mean(batch_loss[-1]))\n",
        "    plt.plot(losses)\n",
        "    plt.show()\n",
        "    \n",
        "\n",
        "def train_a_model(net, train_dataloader, epoch_cnt = 10, fold=0):\n",
        "    step = 0 \n",
        "    losses = []\n",
        "\n",
        "    \n",
        "\n",
        "    optimizer = torch.optim.Adam(net.parameters(), lr = 0.001)\n",
        "    scheduler = torch.optim.lr_scheduler.MultiStepLR(optimizer,milestones=[5000, 10000, 15000],gamma = 0.2)\n",
        "\n",
        "    # print(f\"Processing {fold} fold.\")\n",
        "    \n",
        "    for epoch in range(epoch_cnt):\n",
        "\n",
        "        batch_losses = []\n",
        "        for x, y in train_dataloader:  # each batch\n",
        "\n",
        "\n",
        "\n",
        "            x = torch.tensor(x, requires_grad = True).float().to('cuda')\n",
        "            y = torch.tensor(y, requires_grad = True).float().to('cuda')\n",
        "\n",
        "             \n",
        "            # print(y)\n",
        "            prediction = net(x)\n",
        "            # print(prediction)\n",
        "\n",
        "           \n",
        "            loss = cost(prediction, y)\n",
        "            \n",
        "            optimizer.zero_grad()\n",
        "            \n",
        "            loss.backward(retain_graph=True)\n",
        "            # loss.backward()\n",
        "            \n",
        "            optimizer.step()\n",
        "\n",
        "            batch_losses.append(loss.cpu().data.numpy())\n",
        "\n",
        "            step += 1\n",
        "\n",
        "        scheduler.step()\n",
        "        \n",
        "        if epoch % 50 == 0:\n",
        "            losses.append(np.mean(batch_losses))\n",
        "            \n",
        "            clear_output(wait=True)\n",
        "            fig = plt.figure(figsize=(20, 8))\n",
        "            plt.plot(losses)\n",
        "            plt.show()\n",
        "            loss_t = np.mean(batch_losses)\n",
        "            print(f'Fold: {fold}, epoch: {epoch}, current loss: {loss_t:.4f}'  )\n",
        "        \n",
        "\n",
        "    return net\n",
        "\n",
        "    \n",
        "\n",
        "def eval_model(trained_net, X_test, y_true):\n",
        "    trained_net.eval().to('cuda')\n",
        "    y_predict = trained_net(torch.tensor(X_test).float().to('cuda')).cpu().data.numpy()\n",
        "\n",
        "    mse = metrics.mean_squared_error(y_true, y_predict)\n",
        "    rmse = np.sqrt(metrics.mean_squared_error(y_true, y_predict))\n",
        "    mae = metrics.mean_absolute_error(y_true, y_predict)\n",
        "    r_squared = metrics.r2_score(y_true, y_predict)\n",
        "\n",
        "    return y_predict, mse, rmse, mae, r_squared      \n",
        "\n",
        "# Cross validation\n",
        "results_df = pd.DataFrame(columns=['fold', 'mse', 'rmse', 'mae', 'r_squared'])\n",
        "for  idx, (train_index, test_index) in enumerate(k_fold_spliter.split(input_features)):\n",
        "\n",
        "    my_nn = torch.nn.Sequential(    \n",
        "    torch.nn.Linear(INPUT_SIZE, HIDDEN_SIZE),\n",
        "    torch.nn.Linear(HIDDEN_SIZE, HIDDEN_SIZE),    \n",
        "    torch.nn.ReLU(),    \n",
        "    torch.nn.Linear(HIDDEN_SIZE, OUTPUT_SIZE),\n",
        "    ).to('cuda') \n",
        "     \n",
        "\n",
        "    df_row_cnt = len(results_df)\n",
        "    print(f\"Processing {idx} fold.\")\n",
        "    X_train, X_test = input_features[train_index], input_features[test_index]\n",
        "    y_train, y_test = y_label[train_index], y_label[test_index]\n",
        "\n",
        "    print(len(X_train))\n",
        "    feature_dataset = FeatureDataset(features_np=X_train, labels_np=y_train)\n",
        "\n",
        "    train_dataloader = DataLoader(feature_dataset, batch_size=BATCH_SIZE, shuffle=False)\n",
        "\n",
        "    trained_net = train_a_model(my_nn, train_dataloader, epoch_cnt = epoch_cnt, fold=idx)\n",
        "\n",
        "    torch.save(trained_net, f'trained_model_{idx}.pth')\n",
        "\n",
        "    y_predict, mse, rmse, mae, r_squared = eval_model(trained_net, X_test, y_test)\n",
        "    # results_df.iloc[df_row_cnt, '']\n",
        "    results_df.loc[df_row_cnt] = [idx, mse, rmse, mae, r_squared]\n",
        "    \n",
        "\n",
        "    print(f\"Fold # {idx} Evaluation results:\")\n",
        "    print(f'mse: {mse:.4f}, rmse: {rmse:.4f}, mae: {mae:.4f}, r_squared: {r_squared:.4f}.' )\n",
        "\n",
        "\n",
        "\n",
        "\n",
        "results_df['fold'] = results_df['fold'].astype(int)\n",
        "results_df.to_csv('10_fold_results.csv')\n",
        "print(\"10 fold results:\")\n",
        "\n",
        "results_df\n",
        "\n"
      ],
      "execution_count": 16,
      "outputs": [
        {
          "output_type": "display_data",
          "data": {
            "image/png": "[encoded data removed]",
            "text/plain": [
              "<Figure size 1440x576 with 1 Axes>"
            ]
          },
          "metadata": {
            "needs_background": "light"
          }
        },
        {
          "output_type": "stream",
          "name": "stdout",
          "text": [
            "Fold: 9, epoch: 19950, current loss: 880.6274\n",
            "Fold # 9 Evaluation results:\n",
            "mse: 3611.2044, rmse: 60.0933, mae: 60.0933, r_squared: 60.0933.\n",
            "10 fold results:\n"
          ]
        },
        {
          "output_type": "execute_result",
          "data": {
            "text/html": [
              "<div>\n",
              "<style scoped>\n",
              "    .dataframe tbody tr th:only-of-type {\n",
              "        vertical-align: middle;\n",
              "    }\n",
              "\n",
              "    .dataframe tbody tr th {\n",
              "        vertical-align: top;\n",
              "    }\n",
              "\n",
              "    .dataframe thead th {\n",
              "        text-align: right;\n",
              "    }\n",
              "</style>\n",
              "<table border=\"1\" class=\"dataframe\">\n",
              "  <thead>\n",
              "    <tr style=\"text-align: right;\">\n",
              "      <th></th>\n",
              "      <th>fold</th>\n",
              "      <th>mse</th>\n",
              "      <th>rmse</th>\n",
              "      <th>mae</th>\n",
              "      <th>r_squared</th>\n",
              "    </tr>\n",
              "  </thead>\n",
              "  <tbody>\n",
              "    <tr>\n",
              "      <th>0</th>\n",
              "      <td>0</td>\n",
              "      <td>4059.507176</td>\n",
              "      <td>63.714262</td>\n",
              "      <td>34.300744</td>\n",
              "      <td>0.432008</td>\n",
              "    </tr>\n",
              "    <tr>\n",
              "      <th>1</th>\n",
              "      <td>1</td>\n",
              "      <td>110103.658444</td>\n",
              "      <td>331.818713</td>\n",
              "      <td>80.515705</td>\n",
              "      <td>-221.910233</td>\n",
              "    </tr>\n",
              "    <tr>\n",
              "      <th>2</th>\n",
              "      <td>2</td>\n",
              "      <td>4987.252919</td>\n",
              "      <td>70.620485</td>\n",
              "      <td>36.818258</td>\n",
              "      <td>0.178448</td>\n",
              "    </tr>\n",
              "    <tr>\n",
              "      <th>3</th>\n",
              "      <td>3</td>\n",
              "      <td>1390.586853</td>\n",
              "      <td>37.290573</td>\n",
              "      <td>27.538641</td>\n",
              "      <td>-0.815726</td>\n",
              "    </tr>\n",
              "    <tr>\n",
              "      <th>4</th>\n",
              "      <td>4</td>\n",
              "      <td>24114.859463</td>\n",
              "      <td>155.289599</td>\n",
              "      <td>49.977647</td>\n",
              "      <td>-21.217698</td>\n",
              "    </tr>\n",
              "    <tr>\n",
              "      <th>5</th>\n",
              "      <td>5</td>\n",
              "      <td>6835.217328</td>\n",
              "      <td>82.675373</td>\n",
              "      <td>44.959411</td>\n",
              "      <td>-4.455545</td>\n",
              "    </tr>\n",
              "    <tr>\n",
              "      <th>6</th>\n",
              "      <td>6</td>\n",
              "      <td>2484.824721</td>\n",
              "      <td>49.848016</td>\n",
              "      <td>35.672845</td>\n",
              "      <td>0.177432</td>\n",
              "    </tr>\n",
              "    <tr>\n",
              "      <th>7</th>\n",
              "      <td>7</td>\n",
              "      <td>5013.012964</td>\n",
              "      <td>70.802634</td>\n",
              "      <td>39.123425</td>\n",
              "      <td>0.087296</td>\n",
              "    </tr>\n",
              "    <tr>\n",
              "      <th>8</th>\n",
              "      <td>8</td>\n",
              "      <td>17115.607578</td>\n",
              "      <td>130.826632</td>\n",
              "      <td>53.416233</td>\n",
              "      <td>-1.658382</td>\n",
              "    </tr>\n",
              "    <tr>\n",
              "      <th>9</th>\n",
              "      <td>9</td>\n",
              "      <td>3611.204368</td>\n",
              "      <td>60.093297</td>\n",
              "      <td>32.242146</td>\n",
              "      <td>-9.240084</td>\n",
              "    </tr>\n",
              "  </tbody>\n",
              "</table>\n",
              "</div>"
            ],
            "text/plain": [
              "   fold            mse        rmse        mae   r_squared\n",
              "0     0    4059.507176   63.714262  34.300744    0.432008\n",
              "1     1  110103.658444  331.818713  80.515705 -221.910233\n",
              "2     2    4987.252919   70.620485  36.818258    0.178448\n",
              "3     3    1390.586853   37.290573  27.538641   -0.815726\n",
              "4     4   24114.859463  155.289599  49.977647  -21.217698\n",
              "5     5    6835.217328   82.675373  44.959411   -4.455545\n",
              "6     6    2484.824721   49.848016  35.672845    0.177432\n",
              "7     7    5013.012964   70.802634  39.123425    0.087296\n",
              "8     8   17115.607578  130.826632  53.416233   -1.658382\n",
              "9     9    3611.204368   60.093297  32.242146   -9.240084"
            ]
          },
          "metadata": {},
          "execution_count": 16
        }
      ]
    },
    {
      "cell_type": "code",
      "metadata": {
        "colab": {
          "base_uri": "https://localhost:8080/"
        },
        "id": "KT3CqVd5CQfY",
        "outputId": "494c5738-3a53-4844-ec20-82b0495d91f8"
      },
      "source": [
        "from google.colab import drive\n",
        "drive.mount('/content/drive')"
      ],
      "execution_count": null,
      "outputs": [
        {
          "output_type": "stream",
          "name": "stdout",
          "text": [
            "Mounted at /content/drive\n"
          ]
        }
      ]
    },
    {
      "cell_type": "markdown",
      "metadata": {
        "id": "cn_CM8DpCeun"
      },
      "source": [
        "## Evaluate the best model"
      ]
    },
    {
      "cell_type": "code",
      "metadata": {
        "colab": {
          "base_uri": "https://localhost:8080/",
          "height": 784
        },
        "id": "3kQSa6kR8yQq",
        "outputId": "6fb5023c-5ecd-4d3e-c897-63d8179bea4a"
      },
      "source": [
        "best_model_fold_id = np.argmin(results_df['mae'])\n",
        "\n",
        "best_model = torch.load(f'trained_model_{best_model_fold_id}.pth')\n",
        "\n",
        "y_predict, mse, rmse, mae, r_squared = eval_model(best_model, input_features, y_label)\n",
        "\n",
        "print()\n",
        "print(f'The best model comes from fold # {best_model_fold_id}. The errors between its prediction and the y-exp are:')\n",
        "print(f'mse: {mse:.4f}, rmse: {rmse:.4f}, mae: {mae:.4f}, r_squared: {r_squared:.4f}.' )\n",
        "\n",
        "# evaluate the theoretical prediction and experimental observation\n",
        "mse = metrics.mean_squared_error(y_label, y_theory)\n",
        "rmse = np.sqrt(metrics.mean_squared_error(y_label, y_theory))\n",
        "mae = metrics.mean_absolute_error(y_label, y_theory)\n",
        "r_squared = metrics.r2_score(y_label, y_theory)\n",
        "\n",
        "print()\n",
        "print(f'The errors between theoretical prediction and the y-exp are:')\n",
        "print(f'mse: {mse:.4f}, rmse: {rmse:.4f}, mae: {mae:.4f}, r_squared: {r_squared:.4f}.' )\n",
        "print()\n",
        "\n",
        "\n",
        "def draw_r2_squared(ax2, x_true, y_observed):\n",
        "    x_true = np.array(x_true).reshape((-1, 1))\n",
        "    y_observed = np.array(y_observed).reshape((-1, 1))\n",
        "    reg = LR().fit(x_true, y_observed)\n",
        "    z = np.polyfit(x_true.ravel(), y_observed.ravel(), 1)\n",
        "    p = np.poly1d(z)\n",
        "    y_pred = p(x_true)\n",
        "    R_squared = r2_score(y_observed, y_pred)\n",
        "    # print()\n",
        "    print(\"R squared:\", R_squared)\n",
        "    print(\"reg.coef_:\", reg.coef_)\n",
        "    text = f\"$y={z[0]:0.3f}\\:x{z[1]:+0.3f}$\\n$R^2 = {R_squared:0.3f}$\"\n",
        "    ax2.scatter(x=x_true, y=y_observed, s=2)\n",
        "    ax2.text(0.05, 0.95, text, \n",
        "               transform=plt.gca().transAxes,\n",
        "               fontsize=20,\n",
        "               verticalalignment='top')\n",
        "    \n",
        "    # draw trend line\n",
        "    line_ends = [min(x_true), max(x_true)]\n",
        "    end_preds = p(line_ends)\n",
        "    ax2.plot(line_ends, end_preds, 'r--')\n",
        "\n",
        "\n",
        "# plt.scatter(y_theory, y_predict)\n",
        "fig = plt.subplots(figsize=(10, 10))\n",
        "plt.axis('equal')\n",
        "plt.ylim([0, 300])\n",
        "plt.xlim([0, 350])\n",
        "plt.xlabel(\"y_exp\")\n",
        "plt.ylabel(\"y_predict\")\n",
        "font = {'size': 20}\n",
        "plt.rc('font', **font)\n",
        "draw_r2_squared(plt.gca(), y_label, y_predict)"
      ],
      "execution_count": 34,
      "outputs": [
        {
          "output_type": "stream",
          "name": "stdout",
          "text": [
            "\n",
            "The best model comes from fold # 3. The errors between its prediction and the y-exp are:\n",
            "mse: 937.4873, rmse: 30.6184, mae: 9.7966, r_squared: 0.7166.\n",
            "\n",
            "The errors between theorematical prediction and the y-exp are:\n",
            "mse: 2213.2770, rmse: 47.0455, mae: 17.9104, r_squared: 0.3310.\n",
            "\n",
            "R squared: 0.7195021580801667\n",
            "reg.coef_: [[0.76329031]]\n"
          ]
        },
        {
          "output_type": "display_data",
          "data": {
            "image/png": "[encoded data removed]",
            "text/plain": [
              "<Figure size 720x720 with 1 Axes>"
            ]
          },
          "metadata": {
            "needs_background": "light"
          }
        }
      ]
    },
    {
      "cell_type": "markdown",
      "metadata": {
        "id": "8U7DQ-cx9M0P"
      },
      "source": [
        "# Problem 1 validation"
      ]
    },
    {
      "cell_type": "code",
      "metadata": {
        "colab": {
          "base_uri": "https://localhost:8080/"
        },
        "id": "oMy7y98N9C7C",
        "outputId": "62b6d717-c81d-47e3-9bb2-05869e6ca9b7"
      },
      "source": [
        "from sklearn import metrics\n",
        "import numpy as np\n",
        " \n",
        "\n",
        "classes = ['politics', 'business', 'tech', 'entertainment', 'sport']\n",
        "\n",
        "y_true = [0] * 141 + [1] * 167 + [2] * 133 + [3] * 128 + [4] * 166\n",
        "\n",
        "\n",
        "# row: actual, col: predict\n",
        "confusion_matrix = np.array([[140, 1, 0, 0, 0],\n",
        "                             [4, 160, 2, 0, 1],\n",
        "                             [1, 3, 128, 0, 1],\n",
        "                             [0, 0, 1, 127, 0],\n",
        "                             [0, 1, 0, 0, 165],])\n",
        "\n",
        "row_cnt, col_cnt = confusion_matrix.shape\n",
        "y_true = []\n",
        "y_pred = []\n",
        "for row in range(row_cnt):\n",
        "    y_true += [row] *  confusion_matrix[row, :].sum()\n",
        "    for col in range(col_cnt):\n",
        "        y_pred += [col] *  confusion_matrix[row, col] \n",
        "\n",
        "print(\"Confusion matix:\")\n",
        "print(metrics.confusion_matrix(y_true, y_pred))\n",
        "\n",
        "print(metrics.classification_report(y_true, y_pred, digits=4))\n"
      ],
      "execution_count": 24,
      "outputs": [
        {
          "output_type": "stream",
          "name": "stdout",
          "text": [
            "Confusion matix:\n",
            "[[140   1   0   0   0]\n",
            " [  4 160   2   0   1]\n",
            " [  1   3 128   0   1]\n",
            " [  0   0   1 127   0]\n",
            " [  0   1   0   0 165]]\n",
            "              precision    recall  f1-score   support\n",
            "\n",
            "           0     0.9655    0.9929    0.9790       141\n",
            "           1     0.9697    0.9581    0.9639       167\n",
            "           2     0.9771    0.9624    0.9697       133\n",
            "           3     1.0000    0.9922    0.9961       128\n",
            "           4     0.9880    0.9940    0.9910       166\n",
            "\n",
            "    accuracy                         0.9796       735\n",
            "   macro avg     0.9801    0.9799    0.9799       735\n",
            "weighted avg     0.9797    0.9796    0.9796       735\n",
            "\n"
          ]
        }
      ]
    }
  ]
}